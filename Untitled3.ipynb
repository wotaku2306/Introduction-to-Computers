{
  "nbformat": 4,
  "nbformat_minor": 0,
  "metadata": {
    "colab": {
      "provenance": [],
      "authorship_tag": "ABX9TyNjkToHuS9fm1JHzDdApG+J",
      "include_colab_link": true
    },
    "kernelspec": {
      "name": "python3",
      "display_name": "Python 3"
    },
    "language_info": {
      "name": "python"
    }
  },
  "cells": [
    {
      "cell_type": "markdown",
      "metadata": {
        "id": "view-in-github",
        "colab_type": "text"
      },
      "source": [
        "<a href=\"https://colab.research.google.com/github/wotaku2306/Introduction-to-Computers/blob/main/Untitled3.ipynb\" target=\"_parent\"><img src=\"https://colab.research.google.com/assets/colab-badge.svg\" alt=\"Open In Colab\"/></a>"
      ]
    },
    {
      "cell_type": "code",
      "execution_count": 1,
      "metadata": {
        "colab": {
          "base_uri": "https://localhost:8080/"
        },
        "id": "y0n0KDDF3bBZ",
        "outputId": "04402e4e-ca45-4cff-8091-d16a9839053e"
      },
      "outputs": [
        {
          "output_type": "stream",
          "name": "stdout",
          "text": [
            "Hello World\n"
          ]
        }
      ],
      "source": [
        "print (\"Hello World\")"
      ]
    },
    {
      "cell_type": "code",
      "source": [
        "fahrenheit = 100\n",
        "celsius = (float(fahrenheit) - 32) * 5/9\n",
        "print(\"華氏溫度 %.1f 度等於攝氏溫度 %.1f 度\" % (fahrenheit, celsius))"
      ],
      "metadata": {
        "colab": {
          "base_uri": "https://localhost:8080/"
        },
        "id": "UBpW4D6t7LCU",
        "outputId": "67147118-d917-4119-c962-9214aaabe4ea"
      },
      "execution_count": 6,
      "outputs": [
        {
          "output_type": "stream",
          "name": "stdout",
          "text": [
            "華氏溫度 100.0 度等於攝氏溫度 37.8 度\n"
          ]
        }
      ]
    },
    {
      "cell_type": "code",
      "source": [
        "n = int(input(\"請輸入一個整數：\"))\n",
        "total = 0\n",
        "for i in range(1, n+1):\n",
        "    total += i\n",
        "    print(i)\n",
        "print(\"1到%d的整數和為：%d\" % (n, total))"
      ],
      "metadata": {
        "colab": {
          "base_uri": "https://localhost:8080/"
        },
        "id": "xauu-6Kj7O84",
        "outputId": "d9be1339-912d-429b-dd63-adcd0a9fa0ca"
      },
      "execution_count": 7,
      "outputs": [
        {
          "output_type": "stream",
          "name": "stdout",
          "text": [
            "請輸入一個整數：5\n",
            "1\n",
            "2\n",
            "3\n",
            "4\n",
            "5\n",
            "1到5的整數和為：15\n"
          ]
        }
      ]
    },
    {
      "cell_type": "code",
      "source": [
        "principal = float(input(\"請輸入本金存款金額：\"))\n",
        "interest_rate = 0.02  # 年利率為2%\n",
        "years = 6\n",
        "total_amount = principal * (1 + interest_rate)**years\n",
        "print(\"%d年後存款為：%.8f\" % (years, total_amount))"
      ],
      "metadata": {
        "colab": {
          "base_uri": "https://localhost:8080/"
        },
        "id": "Za_9z9Yq8J4E",
        "outputId": "9e1582bb-62a6-4442-f28d-13154efe559d"
      },
      "execution_count": 11,
      "outputs": [
        {
          "output_type": "stream",
          "name": "stdout",
          "text": [
            "請輸入本金存款金額：20000\n",
            "6年後存款為：22523.24838528\n"
          ]
        }
      ]
    }
  ]
}